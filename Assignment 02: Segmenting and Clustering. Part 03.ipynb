{
    "nbformat_minor": 1, 
    "cells": [
        {
            "source": "<h1>Applied Data Science Capstone Project</h1>", 
            "cell_type": "markdown", 
            "metadata": {}
        }, 
        {
            "source": "<h2>Assignment #2:  Segmenting and Clustering Neighborhoods in Toronto</h2>", 
            "cell_type": "markdown", 
            "metadata": {}
        }, 
        {
            "source": "<h2>Part 03. Exploring the data</h2>", 
            "cell_type": "markdown", 
            "metadata": {}
        }, 
        {
            "source": "<h3>0. Prepare all the necessary stuff</h3>", 
            "cell_type": "markdown", 
            "metadata": {}
        }, 
        {
            "execution_count": 1, 
            "cell_type": "code", 
            "metadata": {}, 
            "outputs": [
                {
                    "output_type": "stream", 
                    "name": "stdout", 
                    "text": "Fetching package metadata .............\nSolving package specifications: .\n\n# All requested packages already installed.\n# packages in environment at /opt/conda/envs/DSX-Python35:\n#\nfolium                    0.5.0                      py_0    conda-forge\nFetching package metadata .............\nSolving package specifications: .\n\n# All requested packages already installed.\n# packages in environment at /opt/conda/envs/DSX-Python35:\n#\ngeopy                     1.18.1                     py_0    conda-forge\nInstallation process is complete\n"
                }
            ], 
            "source": "# install required packages\n!conda install -c conda-forge folium=0.5.0 --yes\n!conda install -c conda-forge geopy --yes\nprint('Installation process is complete')"
        }, 
        {
            "execution_count": 2, 
            "cell_type": "code", 
            "metadata": {}, 
            "outputs": [
                {
                    "output_type": "stream", 
                    "name": "stdout", 
                    "text": "Import process is complete\n"
                }
            ], 
            "source": "# import required libraries\nimport requests, csv, os, sys, folium, json\nimport pandas as pd\nimport numpy as np\nimport matplotlib.cm as cm\nimport matplotlib.colors as colors\nfrom bs4 import BeautifulSoup\nfrom geopy.geocoders import Nominatim\nfrom pandas.io.json import json_normalize\nfrom sklearn.cluster import KMeans\nprint('Import process is complete')"
        }, 
        {
            "source": "<h3>1. Working with the table 'List of postal codes of Canada: M' from Wikipedia</h3>", 
            "cell_type": "markdown", 
            "metadata": {}
        }, 
        {
            "source": "<h4>1.1. Retrieve the data and create a dataframe</h4>", 
            "cell_type": "markdown", 
            "metadata": {}
        }, 
        {
            "execution_count": 3, 
            "cell_type": "code", 
            "metadata": {}, 
            "outputs": [], 
            "source": "# retrieve the data from Wikipedia\nsource = requests.get('https://en.wikipedia.org/wiki/List_of_postal_codes_of_Canada:_M')\nsoup = BeautifulSoup(source.content, 'lxml')\n\n# There are several tables on the page, so we need to find the exact one:\ntable = soup.find('table', class_='wikitable sortable')"
        }, 
        {
            "execution_count": 4, 
            "cell_type": "code", 
            "metadata": {}, 
            "outputs": [
                {
                    "execution_count": 4, 
                    "metadata": {}, 
                    "data": {
                        "text/plain": "33"
                    }, 
                    "output_type": "execute_result"
                }
            ], 
            "source": "# Prepare the csv file: \ncsv_file = open('neighborhoods.csv', 'w')\ncsv_writer = csv.writer(csv_file)\ncsv_writer.writerow(['PostalCode', 'Borough', 'Neighborhood'])"
        }, 
        {
            "execution_count": 5, 
            "cell_type": "code", 
            "metadata": {}, 
            "outputs": [], 
            "source": "# Find all rows and columns of the table and write the data into csv file:\n# Since table headers use the [th] tag, it will throw an error, so there must be an exception.\nfor items in table.find_all('tr')[1::1]:\n    entries = items.find_all('td')\n    try:\n        PostalCode = entries[0].get_text(strip=True)\n        Borough = entries[1].get_text(strip=True)\n        Neighbourhood = entries[2].get_text(strip=True)\n    except IndexError:\n        pass\n    csv_writer.writerow([PostalCode, Borough, Neighbourhood])\n\ncsv_file.close()"
        }, 
        {
            "execution_count": 6, 
            "cell_type": "code", 
            "metadata": {}, 
            "outputs": [], 
            "source": "# Create the dataframe:\nneighborhoods = pd.read_csv('neighborhoods.csv')"
        }, 
        {
            "source": "<h4>1.2. Process the data</h4>", 
            "cell_type": "markdown", 
            "metadata": {}
        }, 
        {
            "execution_count": 7, 
            "cell_type": "code", 
            "metadata": {}, 
            "outputs": [], 
            "source": "# Exclude rows that don't have an assigned borough\nneighborhoods = neighborhoods[neighborhoods.Borough != 'Not assigned']\n\n# If a neighborhoods exists in several postal codes, combine the neighborhoods\nneighborhoods = neighborhoods.groupby(['PostalCode', 'Borough'])['Neighborhood'].apply(', '.join).reset_index()\n\n# Change unassigned neighborhood to the same value as borough\nneighborhoods.loc[neighborhoods['Neighborhood'] == 'Not assigned', 'Neighborhood'] = neighborhoods['Borough']"
        }, 
        {
            "source": "<h4>1.3. See the result</h4>", 
            "cell_type": "markdown", 
            "metadata": {}
        }, 
        {
            "execution_count": 8, 
            "cell_type": "code", 
            "metadata": {}, 
            "outputs": [
                {
                    "execution_count": 8, 
                    "metadata": {}, 
                    "data": {
                        "text/html": "<div>\n<style scoped>\n    .dataframe tbody tr th:only-of-type {\n        vertical-align: middle;\n    }\n\n    .dataframe tbody tr th {\n        vertical-align: top;\n    }\n\n    .dataframe thead th {\n        text-align: right;\n    }\n</style>\n<table border=\"1\" class=\"dataframe\">\n  <thead>\n    <tr style=\"text-align: right;\">\n      <th></th>\n      <th>PostalCode</th>\n      <th>Borough</th>\n      <th>Neighborhood</th>\n    </tr>\n  </thead>\n  <tbody>\n    <tr>\n      <th>0</th>\n      <td>M1B</td>\n      <td>Scarborough</td>\n      <td>Rouge, Malvern</td>\n    </tr>\n    <tr>\n      <th>1</th>\n      <td>M1C</td>\n      <td>Scarborough</td>\n      <td>Highland Creek, Rouge Hill, Port Union</td>\n    </tr>\n    <tr>\n      <th>2</th>\n      <td>M1E</td>\n      <td>Scarborough</td>\n      <td>Guildwood, Morningside, West Hill</td>\n    </tr>\n    <tr>\n      <th>3</th>\n      <td>M1G</td>\n      <td>Scarborough</td>\n      <td>Woburn</td>\n    </tr>\n    <tr>\n      <th>4</th>\n      <td>M1H</td>\n      <td>Scarborough</td>\n      <td>Cedarbrae</td>\n    </tr>\n    <tr>\n      <th>5</th>\n      <td>M1J</td>\n      <td>Scarborough</td>\n      <td>Scarborough Village</td>\n    </tr>\n    <tr>\n      <th>6</th>\n      <td>M1K</td>\n      <td>Scarborough</td>\n      <td>East Birchmount Park, Ionview, Kennedy Park</td>\n    </tr>\n    <tr>\n      <th>7</th>\n      <td>M1L</td>\n      <td>Scarborough</td>\n      <td>Clairlea, Golden Mile, Oakridge</td>\n    </tr>\n    <tr>\n      <th>8</th>\n      <td>M1M</td>\n      <td>Scarborough</td>\n      <td>Cliffcrest, Cliffside, Scarborough Village West</td>\n    </tr>\n    <tr>\n      <th>9</th>\n      <td>M1N</td>\n      <td>Scarborough</td>\n      <td>Birch Cliff, Cliffside West</td>\n    </tr>\n  </tbody>\n</table>\n</div>", 
                        "text/plain": "  PostalCode      Borough                                     Neighborhood\n0        M1B  Scarborough                                   Rouge, Malvern\n1        M1C  Scarborough           Highland Creek, Rouge Hill, Port Union\n2        M1E  Scarborough                Guildwood, Morningside, West Hill\n3        M1G  Scarborough                                           Woburn\n4        M1H  Scarborough                                        Cedarbrae\n5        M1J  Scarborough                              Scarborough Village\n6        M1K  Scarborough      East Birchmount Park, Ionview, Kennedy Park\n7        M1L  Scarborough                  Clairlea, Golden Mile, Oakridge\n8        M1M  Scarborough  Cliffcrest, Cliffside, Scarborough Village West\n9        M1N  Scarborough                      Birch Cliff, Cliffside West"
                    }, 
                    "output_type": "execute_result"
                }
            ], 
            "source": "# see the dataframe\nneighborhoods.head(10)"
        }, 
        {
            "execution_count": 9, 
            "cell_type": "code", 
            "metadata": {}, 
            "outputs": [
                {
                    "execution_count": 9, 
                    "metadata": {}, 
                    "data": {
                        "text/plain": "(103, 3)"
                    }, 
                    "output_type": "execute_result"
                }
            ], 
            "source": "# Print the number of rows of the dataframe\nneighborhoods.shape"
        }, 
        {
            "source": "<h3>2. Adding geocodes</h3>", 
            "cell_type": "markdown", 
            "metadata": {}
        }, 
        {
            "source": "<h4>2.1. Acquire the data</h4>", 
            "cell_type": "markdown", 
            "metadata": {}
        }, 
        {
            "source": "<p><em>Disclaimer:</em> as they said that the Geocoder package might be buggy, I did not want to risk it, so I downloaded the data from the csv file, kindly provided by the Instructor</p>", 
            "cell_type": "markdown", 
            "metadata": {}
        }, 
        {
            "execution_count": 10, 
            "cell_type": "code", 
            "metadata": {}, 
            "outputs": [], 
            "source": "# acquire the data\ngeocodes = pd.read_csv('https://cocl.us/Geospatial_data', header=0, names=['PostalCode', 'Latitude', 'Longitude'])"
        }, 
        {
            "source": "<h4>2.2. Add location data to the dataframe</h4>", 
            "cell_type": "markdown", 
            "metadata": {}
        }, 
        {
            "execution_count": 11, 
            "cell_type": "code", 
            "metadata": {}, 
            "outputs": [], 
            "source": "# merge dataframes\nneighborhoods_geo = pd.merge(neighborhoods, geocodes, on='PostalCode')"
        }, 
        {
            "source": "<h4>2.3. See the result</h4>", 
            "cell_type": "markdown", 
            "metadata": {}
        }, 
        {
            "execution_count": 12, 
            "cell_type": "code", 
            "metadata": {}, 
            "outputs": [
                {
                    "execution_count": 12, 
                    "metadata": {}, 
                    "data": {
                        "text/html": "<div>\n<style scoped>\n    .dataframe tbody tr th:only-of-type {\n        vertical-align: middle;\n    }\n\n    .dataframe tbody tr th {\n        vertical-align: top;\n    }\n\n    .dataframe thead th {\n        text-align: right;\n    }\n</style>\n<table border=\"1\" class=\"dataframe\">\n  <thead>\n    <tr style=\"text-align: right;\">\n      <th></th>\n      <th>PostalCode</th>\n      <th>Borough</th>\n      <th>Neighborhood</th>\n      <th>Latitude</th>\n      <th>Longitude</th>\n    </tr>\n  </thead>\n  <tbody>\n    <tr>\n      <th>0</th>\n      <td>M1B</td>\n      <td>Scarborough</td>\n      <td>Rouge, Malvern</td>\n      <td>43.806686</td>\n      <td>-79.194353</td>\n    </tr>\n    <tr>\n      <th>1</th>\n      <td>M1C</td>\n      <td>Scarborough</td>\n      <td>Highland Creek, Rouge Hill, Port Union</td>\n      <td>43.784535</td>\n      <td>-79.160497</td>\n    </tr>\n    <tr>\n      <th>2</th>\n      <td>M1E</td>\n      <td>Scarborough</td>\n      <td>Guildwood, Morningside, West Hill</td>\n      <td>43.763573</td>\n      <td>-79.188711</td>\n    </tr>\n    <tr>\n      <th>3</th>\n      <td>M1G</td>\n      <td>Scarborough</td>\n      <td>Woburn</td>\n      <td>43.770992</td>\n      <td>-79.216917</td>\n    </tr>\n    <tr>\n      <th>4</th>\n      <td>M1H</td>\n      <td>Scarborough</td>\n      <td>Cedarbrae</td>\n      <td>43.773136</td>\n      <td>-79.239476</td>\n    </tr>\n    <tr>\n      <th>5</th>\n      <td>M1J</td>\n      <td>Scarborough</td>\n      <td>Scarborough Village</td>\n      <td>43.744734</td>\n      <td>-79.239476</td>\n    </tr>\n    <tr>\n      <th>6</th>\n      <td>M1K</td>\n      <td>Scarborough</td>\n      <td>East Birchmount Park, Ionview, Kennedy Park</td>\n      <td>43.727929</td>\n      <td>-79.262029</td>\n    </tr>\n    <tr>\n      <th>7</th>\n      <td>M1L</td>\n      <td>Scarborough</td>\n      <td>Clairlea, Golden Mile, Oakridge</td>\n      <td>43.711112</td>\n      <td>-79.284577</td>\n    </tr>\n    <tr>\n      <th>8</th>\n      <td>M1M</td>\n      <td>Scarborough</td>\n      <td>Cliffcrest, Cliffside, Scarborough Village West</td>\n      <td>43.716316</td>\n      <td>-79.239476</td>\n    </tr>\n    <tr>\n      <th>9</th>\n      <td>M1N</td>\n      <td>Scarborough</td>\n      <td>Birch Cliff, Cliffside West</td>\n      <td>43.692657</td>\n      <td>-79.264848</td>\n    </tr>\n  </tbody>\n</table>\n</div>", 
                        "text/plain": "  PostalCode      Borough                                     Neighborhood  \\\n0        M1B  Scarborough                                   Rouge, Malvern   \n1        M1C  Scarborough           Highland Creek, Rouge Hill, Port Union   \n2        M1E  Scarborough                Guildwood, Morningside, West Hill   \n3        M1G  Scarborough                                           Woburn   \n4        M1H  Scarborough                                        Cedarbrae   \n5        M1J  Scarborough                              Scarborough Village   \n6        M1K  Scarborough      East Birchmount Park, Ionview, Kennedy Park   \n7        M1L  Scarborough                  Clairlea, Golden Mile, Oakridge   \n8        M1M  Scarborough  Cliffcrest, Cliffside, Scarborough Village West   \n9        M1N  Scarborough                      Birch Cliff, Cliffside West   \n\n    Latitude  Longitude  \n0  43.806686 -79.194353  \n1  43.784535 -79.160497  \n2  43.763573 -79.188711  \n3  43.770992 -79.216917  \n4  43.773136 -79.239476  \n5  43.744734 -79.239476  \n6  43.727929 -79.262029  \n7  43.711112 -79.284577  \n8  43.716316 -79.239476  \n9  43.692657 -79.264848  "
                    }, 
                    "output_type": "execute_result"
                }
            ], 
            "source": "neighborhoods_geo.head(10)"
        }, 
        {
            "source": "<h3>3. Exploring the data</h3>", 
            "cell_type": "markdown", 
            "metadata": {}
        }, 
        {
            "source": "<h4>3.1. Etobicoke</h4>", 
            "cell_type": "markdown", 
            "metadata": {}
        }, 
        {
            "source": "<p><em>Wikipedia:</em><br>\nEtobicoke (pronounced /\u025b\u02c8to\u028ab\u026ako\u028a/, with silent 'ke') is an administrative district and former city that makes up the western part of Toronto, Ontario, Canada.<br>\nEtobicoke was first settled by Europeans in the 1790s; the municipality grew into city status in the 20th century.<br>\nThe name \"Etobicoke\" was derived from the Mississauga word <em>wah-do-be-kang (wadoopikaang)</em>, meaning \"place where the alders grow\". \n</p>\n<p>I chose this borough not only because it's not too large, so your screens are not going to be all covered with data, but the main reason was: I just liked the name very much! So hello to the people of Etobicoke!</p>\n<p>So let's get to it!</p>", 
            "cell_type": "markdown", 
            "metadata": {}
        }, 
        {
            "execution_count": 13, 
            "cell_type": "code", 
            "metadata": {}, 
            "outputs": [
                {
                    "execution_count": 13, 
                    "metadata": {}, 
                    "data": {
                        "text/html": "<div>\n<style scoped>\n    .dataframe tbody tr th:only-of-type {\n        vertical-align: middle;\n    }\n\n    .dataframe tbody tr th {\n        vertical-align: top;\n    }\n\n    .dataframe thead th {\n        text-align: right;\n    }\n</style>\n<table border=\"1\" class=\"dataframe\">\n  <thead>\n    <tr style=\"text-align: right;\">\n      <th></th>\n      <th>PostalCode</th>\n      <th>Borough</th>\n      <th>Neighborhood</th>\n      <th>Latitude</th>\n      <th>Longitude</th>\n    </tr>\n  </thead>\n  <tbody>\n    <tr>\n      <th>0</th>\n      <td>M8V</td>\n      <td>Etobicoke</td>\n      <td>Humber Bay Shores, Mimico South, New Toronto</td>\n      <td>43.605647</td>\n      <td>-79.501321</td>\n    </tr>\n    <tr>\n      <th>1</th>\n      <td>M8W</td>\n      <td>Etobicoke</td>\n      <td>Alderwood, Long Branch</td>\n      <td>43.602414</td>\n      <td>-79.543484</td>\n    </tr>\n    <tr>\n      <th>2</th>\n      <td>M8X</td>\n      <td>Etobicoke</td>\n      <td>The Kingsway, Montgomery Road, Old Mill North</td>\n      <td>43.653654</td>\n      <td>-79.506944</td>\n    </tr>\n    <tr>\n      <th>3</th>\n      <td>M8Y</td>\n      <td>Etobicoke</td>\n      <td>Humber Bay, King's Mill Park, Kingsway Park So...</td>\n      <td>43.636258</td>\n      <td>-79.498509</td>\n    </tr>\n    <tr>\n      <th>4</th>\n      <td>M8Z</td>\n      <td>Etobicoke</td>\n      <td>Kingsway Park South West, Mimico NW, The Queen...</td>\n      <td>43.628841</td>\n      <td>-79.520999</td>\n    </tr>\n    <tr>\n      <th>5</th>\n      <td>M9A</td>\n      <td>Etobicoke</td>\n      <td>Islington Avenue</td>\n      <td>43.667856</td>\n      <td>-79.532242</td>\n    </tr>\n    <tr>\n      <th>6</th>\n      <td>M9B</td>\n      <td>Etobicoke</td>\n      <td>Cloverdale, Islington, Martin Grove, Princess ...</td>\n      <td>43.650943</td>\n      <td>-79.554724</td>\n    </tr>\n    <tr>\n      <th>7</th>\n      <td>M9C</td>\n      <td>Etobicoke</td>\n      <td>Bloordale Gardens, Eringate, Markland Wood, Ol...</td>\n      <td>43.643515</td>\n      <td>-79.577201</td>\n    </tr>\n    <tr>\n      <th>8</th>\n      <td>M9P</td>\n      <td>Etobicoke</td>\n      <td>Westmount</td>\n      <td>43.696319</td>\n      <td>-79.532242</td>\n    </tr>\n    <tr>\n      <th>9</th>\n      <td>M9R</td>\n      <td>Etobicoke</td>\n      <td>Kingsview Village, Martin Grove Gardens, Richv...</td>\n      <td>43.688905</td>\n      <td>-79.554724</td>\n    </tr>\n    <tr>\n      <th>10</th>\n      <td>M9V</td>\n      <td>Etobicoke</td>\n      <td>Albion Gardens, Beaumond Heights, Humbergate, ...</td>\n      <td>43.739416</td>\n      <td>-79.588437</td>\n    </tr>\n    <tr>\n      <th>11</th>\n      <td>M9W</td>\n      <td>Etobicoke</td>\n      <td>Northwest</td>\n      <td>43.706748</td>\n      <td>-79.594054</td>\n    </tr>\n  </tbody>\n</table>\n</div>", 
                        "text/plain": "   PostalCode    Borough                                       Neighborhood  \\\n0         M8V  Etobicoke       Humber Bay Shores, Mimico South, New Toronto   \n1         M8W  Etobicoke                             Alderwood, Long Branch   \n2         M8X  Etobicoke      The Kingsway, Montgomery Road, Old Mill North   \n3         M8Y  Etobicoke  Humber Bay, King's Mill Park, Kingsway Park So...   \n4         M8Z  Etobicoke  Kingsway Park South West, Mimico NW, The Queen...   \n5         M9A  Etobicoke                                   Islington Avenue   \n6         M9B  Etobicoke  Cloverdale, Islington, Martin Grove, Princess ...   \n7         M9C  Etobicoke  Bloordale Gardens, Eringate, Markland Wood, Ol...   \n8         M9P  Etobicoke                                          Westmount   \n9         M9R  Etobicoke  Kingsview Village, Martin Grove Gardens, Richv...   \n10        M9V  Etobicoke  Albion Gardens, Beaumond Heights, Humbergate, ...   \n11        M9W  Etobicoke                                          Northwest   \n\n     Latitude  Longitude  \n0   43.605647 -79.501321  \n1   43.602414 -79.543484  \n2   43.653654 -79.506944  \n3   43.636258 -79.498509  \n4   43.628841 -79.520999  \n5   43.667856 -79.532242  \n6   43.650943 -79.554724  \n7   43.643515 -79.577201  \n8   43.696319 -79.532242  \n9   43.688905 -79.554724  \n10  43.739416 -79.588437  \n11  43.706748 -79.594054  "
                    }, 
                    "output_type": "execute_result"
                }
            ], 
            "source": "# Create a dataframe for Etobicoke borough\netobicoke_data = neighborhoods_geo[neighborhoods_geo['Borough'] == 'Etobicoke'].reset_index(drop=True)\netobicoke_data"
        }, 
        {
            "source": "<h4>3.2. Create a map of Etobicoke</h4>", 
            "cell_type": "markdown", 
            "metadata": {}
        }, 
        {
            "execution_count": 14, 
            "cell_type": "code", 
            "metadata": {}, 
            "outputs": [
                {
                    "output_type": "stream", 
                    "name": "stdout", 
                    "text": "Coordinates of Etobicoke, Toronto are: 43.6435559, -79.5656326.\n"
                }
            ], 
            "source": "# Get the coordinates\naddress = 'Etobicoke, Toronto'\ngeolocator = Nominatim(user_agent='IBM')\nlocation = geolocator.geocode(address)\nlatitude = location.latitude\nlongitude = location.longitude\nprint('Coordinates of {} are: {}, {}.'.format(address, latitude, longitude))"
        }, 
        {
            "execution_count": 15, 
            "cell_type": "code", 
            "metadata": {}, 
            "outputs": [
                {
                    "execution_count": 15, 
                    "metadata": {}, 
                    "data": {
                        "text/html": "<div style=\"width:100%;\"><div style=\"position:relative;width:100%;height:0;padding-bottom:60%;\"><iframe src=\"data:text/html;charset=utf-8;base64,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\" style=\"position:absolute;width:100%;height:100%;left:0;top:0;border:none !important;\" allowfullscreen webkitallowfullscreen mozallowfullscreen></iframe></div></div>", 
                        "text/plain": "<folium.folium.Map at 0x7fa573837240>"
                    }, 
                    "output_type": "execute_result"
                }
            ], 
            "source": "# Draw a map\nmap_etobicoke = folium.Map(location=[latitude, longitude], zoom_start=12)\n\nfor lat, lng, label in zip(etobicoke_data['Latitude'], etobicoke_data['Longitude'], etobicoke_data['Neighborhood']):\n    label = folium.Popup(label, parse_html=True)\n    folium.CircleMarker(\n        [lat, lng],\n        radius=5,\n        popup=label,\n        color='red',\n        fill=True,\n        fill_color='white',\n        fill_opacity=0.7,\n        parse_html=False).add_to(map_etobicoke)  \nmap_etobicoke"
        }, 
        {
            "source": "<h4>3.3. Gather the information about Etobicoke venues from Foursquare</h4>", 
            "cell_type": "markdown", 
            "metadata": {}
        }, 
        {
            "source": "<p>To make sure I don't lose my Foursquare credentials, I saved them to a file. Unfortunately, the Watson Studio file management system is pretty awkward, so I had to keep it hidden anyways. Sorry about that</p>", 
            "cell_type": "markdown", 
            "metadata": {}
        }, 
        {
            "execution_count": 16, 
            "cell_type": "code", 
            "metadata": {}, 
            "outputs": [], 
            "source": "# The code was removed by Watson Studio for sharing."
        }, 
        {
            "execution_count": 17, 
            "cell_type": "code", 
            "metadata": {}, 
            "outputs": [], 
            "source": "# foursquare settings\nCLIENT_ID = open('fsq_id', 'r').read()\nCLIENT_SECRET = open('fsq_s', 'r').read()\nVERSION = '20190214'\nLIMIT = 100\nradius = 500"
        }, 
        {
            "execution_count": 18, 
            "cell_type": "code", 
            "metadata": {}, 
            "outputs": [], 
            "source": "# Get the top 100 venues in Etobicoke\n\ndef getNearbyVenues(names, latitudes, longitudes, radius=500):\n    \n    venues_list=[]\n    for name, lat, lng in zip(names, latitudes, longitudes):\n        print(name)\n            \n        # create the API request URL\n        url = 'https://api.foursquare.com/v2/venues/explore?&client_id={}&client_secret={}&v={}&ll={},{}&radius={}&limit={}'.format(\n            CLIENT_ID, \n            CLIENT_SECRET, \n            VERSION, \n            lat, \n            lng, \n            radius, \n            LIMIT)\n            \n        # make the GET request\n        results = requests.get(url).json()[\"response\"]['groups'][0]['items']\n        \n        # return only relevant information for each nearby venue\n        venues_list.append([(\n            name, \n            lat, \n            lng, \n            v['venue']['name'], \n            v['venue']['location']['lat'], \n            v['venue']['location']['lng'],  \n            v['venue']['categories'][0]['name']) for v in results])\n\n    nearby_venues = pd.DataFrame([item for venue_list in venues_list for item in venue_list])\n    nearby_venues.columns = ['Neighborhood', \n                  'Neighborhood Latitude', \n                  'Neighborhood Longitude', \n                  'Venue', \n                  'Venue Latitude', \n                  'Venue Longitude', \n                  'Venue Category']\n    \n    return(nearby_venues)"
        }, 
        {
            "execution_count": 19, 
            "cell_type": "code", 
            "metadata": {}, 
            "outputs": [
                {
                    "output_type": "stream", 
                    "name": "stdout", 
                    "text": "Humber Bay Shores, Mimico South, New Toronto\nAlderwood, Long Branch\nThe Kingsway, Montgomery Road, Old Mill North\nHumber Bay, King's Mill Park, Kingsway Park South East, Mimico NE, Old Mill South, The Queensway East, Royal York South East, Sunnylea\nKingsway Park South West, Mimico NW, The Queensway West, Royal York South West, South of Bloor\nIslington Avenue\nCloverdale, Islington, Martin Grove, Princess Gardens, West Deane Park\nBloordale Gardens, Eringate, Markland Wood, Old Burnhamthorpe\nWestmount\nKingsview Village, Martin Grove Gardens, Richview Gardens, St. Phillips\nAlbion Gardens, Beaumond Heights, Humbergate, Jamestown, Mount Olive, Silverstone, South Steeles, Thistletown\nNorthwest\n"
                }
            ], 
            "source": "# Get those venues\netobicoke_venues = getNearbyVenues(names=etobicoke_data['Neighborhood'],\n                                   latitudes=etobicoke_data['Latitude'],\n                                   longitudes=etobicoke_data['Longitude']\n                                  )"
        }, 
        {
            "execution_count": 20, 
            "cell_type": "code", 
            "metadata": {}, 
            "outputs": [
                {
                    "output_type": "stream", 
                    "name": "stdout", 
                    "text": "(76, 7)\n"
                }, 
                {
                    "execution_count": 20, 
                    "metadata": {}, 
                    "data": {
                        "text/html": "<div>\n<style scoped>\n    .dataframe tbody tr th:only-of-type {\n        vertical-align: middle;\n    }\n\n    .dataframe tbody tr th {\n        vertical-align: top;\n    }\n\n    .dataframe thead th {\n        text-align: right;\n    }\n</style>\n<table border=\"1\" class=\"dataframe\">\n  <thead>\n    <tr style=\"text-align: right;\">\n      <th></th>\n      <th>Neighborhood</th>\n      <th>Neighborhood Latitude</th>\n      <th>Neighborhood Longitude</th>\n      <th>Venue</th>\n      <th>Venue Latitude</th>\n      <th>Venue Longitude</th>\n      <th>Venue Category</th>\n    </tr>\n  </thead>\n  <tbody>\n    <tr>\n      <th>0</th>\n      <td>Humber Bay Shores, Mimico South, New Toronto</td>\n      <td>43.605647</td>\n      <td>-79.501321</td>\n      <td>LCBO</td>\n      <td>43.602281</td>\n      <td>-79.499302</td>\n      <td>Liquor Store</td>\n    </tr>\n    <tr>\n      <th>1</th>\n      <td>Humber Bay Shores, Mimico South, New Toronto</td>\n      <td>43.605647</td>\n      <td>-79.501321</td>\n      <td>New Toronto Fish &amp; Chips</td>\n      <td>43.601849</td>\n      <td>-79.503281</td>\n      <td>Restaurant</td>\n    </tr>\n    <tr>\n      <th>2</th>\n      <td>Humber Bay Shores, Mimico South, New Toronto</td>\n      <td>43.605647</td>\n      <td>-79.501321</td>\n      <td>Delicia Bakery &amp; Pastry</td>\n      <td>43.601403</td>\n      <td>-79.503012</td>\n      <td>Bakery</td>\n    </tr>\n    <tr>\n      <th>3</th>\n      <td>Humber Bay Shores, Mimico South, New Toronto</td>\n      <td>43.605647</td>\n      <td>-79.501321</td>\n      <td>Lucky Dice Restaurant</td>\n      <td>43.601392</td>\n      <td>-79.503056</td>\n      <td>Caf\u00e9</td>\n    </tr>\n    <tr>\n      <th>4</th>\n      <td>Humber Bay Shores, Mimico South, New Toronto</td>\n      <td>43.605647</td>\n      <td>-79.501321</td>\n      <td>McDonald's</td>\n      <td>43.602470</td>\n      <td>-79.498963</td>\n      <td>Fast Food Restaurant</td>\n    </tr>\n  </tbody>\n</table>\n</div>", 
                        "text/plain": "                                   Neighborhood  Neighborhood Latitude  \\\n0  Humber Bay Shores, Mimico South, New Toronto              43.605647   \n1  Humber Bay Shores, Mimico South, New Toronto              43.605647   \n2  Humber Bay Shores, Mimico South, New Toronto              43.605647   \n3  Humber Bay Shores, Mimico South, New Toronto              43.605647   \n4  Humber Bay Shores, Mimico South, New Toronto              43.605647   \n\n   Neighborhood Longitude                     Venue  Venue Latitude  \\\n0              -79.501321                      LCBO       43.602281   \n1              -79.501321  New Toronto Fish & Chips       43.601849   \n2              -79.501321   Delicia Bakery & Pastry       43.601403   \n3              -79.501321     Lucky Dice Restaurant       43.601392   \n4              -79.501321                McDonald's       43.602470   \n\n   Venue Longitude        Venue Category  \n0       -79.499302          Liquor Store  \n1       -79.503281            Restaurant  \n2       -79.503012                Bakery  \n3       -79.503056                  Caf\u00e9  \n4       -79.498963  Fast Food Restaurant  "
                    }, 
                    "output_type": "execute_result"
                }
            ], 
            "source": "# Shape it\nprint(etobicoke_venues.shape)\netobicoke_venues.head()"
        }, 
        {
            "source": "<h4>3.4. Prepare the acquired data for future exploration</h4>", 
            "cell_type": "markdown", 
            "metadata": {}
        }, 
        {
            "execution_count": 21, 
            "cell_type": "code", 
            "metadata": {}, 
            "outputs": [
                {
                    "execution_count": 21, 
                    "metadata": {}, 
                    "data": {
                        "text/html": "<div>\n<style scoped>\n    .dataframe tbody tr th:only-of-type {\n        vertical-align: middle;\n    }\n\n    .dataframe tbody tr th {\n        vertical-align: top;\n    }\n\n    .dataframe thead th {\n        text-align: right;\n    }\n</style>\n<table border=\"1\" class=\"dataframe\">\n  <thead>\n    <tr style=\"text-align: right;\">\n      <th></th>\n      <th>Neighborhood Latitude</th>\n      <th>Neighborhood Longitude</th>\n      <th>Venue</th>\n      <th>Venue Latitude</th>\n      <th>Venue Longitude</th>\n      <th>Venue Category</th>\n    </tr>\n    <tr>\n      <th>Neighborhood</th>\n      <th></th>\n      <th></th>\n      <th></th>\n      <th></th>\n      <th></th>\n      <th></th>\n    </tr>\n  </thead>\n  <tbody>\n    <tr>\n      <th>Albion Gardens, Beaumond Heights, Humbergate, Jamestown, Mount Olive, Silverstone, South Steeles, Thistletown</th>\n      <td>11</td>\n      <td>11</td>\n      <td>11</td>\n      <td>11</td>\n      <td>11</td>\n      <td>11</td>\n    </tr>\n    <tr>\n      <th>Alderwood, Long Branch</th>\n      <td>11</td>\n      <td>11</td>\n      <td>11</td>\n      <td>11</td>\n      <td>11</td>\n      <td>11</td>\n    </tr>\n    <tr>\n      <th>Bloordale Gardens, Eringate, Markland Wood, Old Burnhamthorpe</th>\n      <td>5</td>\n      <td>5</td>\n      <td>5</td>\n      <td>5</td>\n      <td>5</td>\n      <td>5</td>\n    </tr>\n    <tr>\n      <th>Cloverdale, Islington, Martin Grove, Princess Gardens, West Deane Park</th>\n      <td>2</td>\n      <td>2</td>\n      <td>2</td>\n      <td>2</td>\n      <td>2</td>\n      <td>2</td>\n    </tr>\n    <tr>\n      <th>Humber Bay Shores, Mimico South, New Toronto</th>\n      <td>16</td>\n      <td>16</td>\n      <td>16</td>\n      <td>16</td>\n      <td>16</td>\n      <td>16</td>\n    </tr>\n    <tr>\n      <th>Humber Bay, King's Mill Park, Kingsway Park South East, Mimico NE, Old Mill South, The Queensway East, Royal York South East, Sunnylea</th>\n      <td>2</td>\n      <td>2</td>\n      <td>2</td>\n      <td>2</td>\n      <td>2</td>\n      <td>2</td>\n    </tr>\n    <tr>\n      <th>Kingsview Village, Martin Grove Gardens, Richview Gardens, St. Phillips</th>\n      <td>3</td>\n      <td>3</td>\n      <td>3</td>\n      <td>3</td>\n      <td>3</td>\n      <td>3</td>\n    </tr>\n    <tr>\n      <th>Kingsway Park South West, Mimico NW, The Queensway West, Royal York South West, South of Bloor</th>\n      <td>13</td>\n      <td>13</td>\n      <td>13</td>\n      <td>13</td>\n      <td>13</td>\n      <td>13</td>\n    </tr>\n    <tr>\n      <th>Northwest</th>\n      <td>3</td>\n      <td>3</td>\n      <td>3</td>\n      <td>3</td>\n      <td>3</td>\n      <td>3</td>\n    </tr>\n    <tr>\n      <th>The Kingsway, Montgomery Road, Old Mill North</th>\n      <td>3</td>\n      <td>3</td>\n      <td>3</td>\n      <td>3</td>\n      <td>3</td>\n      <td>3</td>\n    </tr>\n    <tr>\n      <th>Westmount</th>\n      <td>7</td>\n      <td>7</td>\n      <td>7</td>\n      <td>7</td>\n      <td>7</td>\n      <td>7</td>\n    </tr>\n  </tbody>\n</table>\n</div>", 
                        "text/plain": "                                                    Neighborhood Latitude  \\\nNeighborhood                                                                \nAlbion Gardens, Beaumond Heights, Humbergate, J...                     11   \nAlderwood, Long Branch                                                 11   \nBloordale Gardens, Eringate, Markland Wood, Old...                      5   \nCloverdale, Islington, Martin Grove, Princess G...                      2   \nHumber Bay Shores, Mimico South, New Toronto                           16   \nHumber Bay, King's Mill Park, Kingsway Park Sou...                      2   \nKingsview Village, Martin Grove Gardens, Richvi...                      3   \nKingsway Park South West, Mimico NW, The Queens...                     13   \nNorthwest                                                               3   \nThe Kingsway, Montgomery Road, Old Mill North                           3   \nWestmount                                                               7   \n\n                                                    Neighborhood Longitude  \\\nNeighborhood                                                                 \nAlbion Gardens, Beaumond Heights, Humbergate, J...                      11   \nAlderwood, Long Branch                                                  11   \nBloordale Gardens, Eringate, Markland Wood, Old...                       5   \nCloverdale, Islington, Martin Grove, Princess G...                       2   \nHumber Bay Shores, Mimico South, New Toronto                            16   \nHumber Bay, King's Mill Park, Kingsway Park Sou...                       2   \nKingsview Village, Martin Grove Gardens, Richvi...                       3   \nKingsway Park South West, Mimico NW, The Queens...                      13   \nNorthwest                                                                3   \nThe Kingsway, Montgomery Road, Old Mill North                            3   \nWestmount                                                                7   \n\n                                                    Venue  Venue Latitude  \\\nNeighborhood                                                                \nAlbion Gardens, Beaumond Heights, Humbergate, J...     11              11   \nAlderwood, Long Branch                                 11              11   \nBloordale Gardens, Eringate, Markland Wood, Old...      5               5   \nCloverdale, Islington, Martin Grove, Princess G...      2               2   \nHumber Bay Shores, Mimico South, New Toronto           16              16   \nHumber Bay, King's Mill Park, Kingsway Park Sou...      2               2   \nKingsview Village, Martin Grove Gardens, Richvi...      3               3   \nKingsway Park South West, Mimico NW, The Queens...     13              13   \nNorthwest                                               3               3   \nThe Kingsway, Montgomery Road, Old Mill North           3               3   \nWestmount                                               7               7   \n\n                                                    Venue Longitude  \\\nNeighborhood                                                          \nAlbion Gardens, Beaumond Heights, Humbergate, J...               11   \nAlderwood, Long Branch                                           11   \nBloordale Gardens, Eringate, Markland Wood, Old...                5   \nCloverdale, Islington, Martin Grove, Princess G...                2   \nHumber Bay Shores, Mimico South, New Toronto                     16   \nHumber Bay, King's Mill Park, Kingsway Park Sou...                2   \nKingsview Village, Martin Grove Gardens, Richvi...                3   \nKingsway Park South West, Mimico NW, The Queens...               13   \nNorthwest                                                         3   \nThe Kingsway, Montgomery Road, Old Mill North                     3   \nWestmount                                                         7   \n\n                                                    Venue Category  \nNeighborhood                                                        \nAlbion Gardens, Beaumond Heights, Humbergate, J...              11  \nAlderwood, Long Branch                                          11  \nBloordale Gardens, Eringate, Markland Wood, Old...               5  \nCloverdale, Islington, Martin Grove, Princess G...               2  \nHumber Bay Shores, Mimico South, New Toronto                    16  \nHumber Bay, King's Mill Park, Kingsway Park Sou...               2  \nKingsview Village, Martin Grove Gardens, Richvi...               3  \nKingsway Park South West, Mimico NW, The Queens...              13  \nNorthwest                                                        3  \nThe Kingsway, Montgomery Road, Old Mill North                    3  \nWestmount                                                        7  "
                    }, 
                    "output_type": "execute_result"
                }
            ], 
            "source": "# Number of venues for each neighborhood\netobicoke_venues.groupby('Neighborhood').count()"
        }, 
        {
            "execution_count": 22, 
            "cell_type": "code", 
            "metadata": {}, 
            "outputs": [
                {
                    "output_type": "stream", 
                    "name": "stdout", 
                    "text": "(76, 43)\n"
                }, 
                {
                    "execution_count": 22, 
                    "metadata": {}, 
                    "data": {
                        "text/html": "<div>\n<style scoped>\n    .dataframe tbody tr th:only-of-type {\n        vertical-align: middle;\n    }\n\n    .dataframe tbody tr th {\n        vertical-align: top;\n    }\n\n    .dataframe thead th {\n        text-align: right;\n    }\n</style>\n<table border=\"1\" class=\"dataframe\">\n  <thead>\n    <tr style=\"text-align: right;\">\n      <th></th>\n      <th>Neighborhood</th>\n      <th>American Restaurant</th>\n      <th>Athletics &amp; Sports</th>\n      <th>Bakery</th>\n      <th>Bank</th>\n      <th>Bar</th>\n      <th>Baseball Field</th>\n      <th>Beer Store</th>\n      <th>Burger Joint</th>\n      <th>Bus Line</th>\n      <th>...</th>\n      <th>Restaurant</th>\n      <th>River</th>\n      <th>Sandwich Place</th>\n      <th>Seafood Restaurant</th>\n      <th>Skating Rink</th>\n      <th>Smoke Shop</th>\n      <th>Social Club</th>\n      <th>Supplement Shop</th>\n      <th>Tanning Salon</th>\n      <th>Wings Joint</th>\n    </tr>\n  </thead>\n  <tbody>\n    <tr>\n      <th>0</th>\n      <td>Humber Bay Shores, Mimico South, New Toronto</td>\n      <td>0</td>\n      <td>0</td>\n      <td>0</td>\n      <td>0</td>\n      <td>0</td>\n      <td>0</td>\n      <td>0</td>\n      <td>0</td>\n      <td>0</td>\n      <td>...</td>\n      <td>0</td>\n      <td>0</td>\n      <td>0</td>\n      <td>0</td>\n      <td>0</td>\n      <td>0</td>\n      <td>0</td>\n      <td>0</td>\n      <td>0</td>\n      <td>0</td>\n    </tr>\n    <tr>\n      <th>1</th>\n      <td>Humber Bay Shores, Mimico South, New Toronto</td>\n      <td>0</td>\n      <td>0</td>\n      <td>0</td>\n      <td>0</td>\n      <td>0</td>\n      <td>0</td>\n      <td>0</td>\n      <td>0</td>\n      <td>0</td>\n      <td>...</td>\n      <td>1</td>\n      <td>0</td>\n      <td>0</td>\n      <td>0</td>\n      <td>0</td>\n      <td>0</td>\n      <td>0</td>\n      <td>0</td>\n      <td>0</td>\n      <td>0</td>\n    </tr>\n    <tr>\n      <th>2</th>\n      <td>Humber Bay Shores, Mimico South, New Toronto</td>\n      <td>0</td>\n      <td>0</td>\n      <td>1</td>\n      <td>0</td>\n      <td>0</td>\n      <td>0</td>\n      <td>0</td>\n      <td>0</td>\n      <td>0</td>\n      <td>...</td>\n      <td>0</td>\n      <td>0</td>\n      <td>0</td>\n      <td>0</td>\n      <td>0</td>\n      <td>0</td>\n      <td>0</td>\n      <td>0</td>\n      <td>0</td>\n      <td>0</td>\n    </tr>\n    <tr>\n      <th>3</th>\n      <td>Humber Bay Shores, Mimico South, New Toronto</td>\n      <td>0</td>\n      <td>0</td>\n      <td>0</td>\n      <td>0</td>\n      <td>0</td>\n      <td>0</td>\n      <td>0</td>\n      <td>0</td>\n      <td>0</td>\n      <td>...</td>\n      <td>0</td>\n      <td>0</td>\n      <td>0</td>\n      <td>0</td>\n      <td>0</td>\n      <td>0</td>\n      <td>0</td>\n      <td>0</td>\n      <td>0</td>\n      <td>0</td>\n    </tr>\n    <tr>\n      <th>4</th>\n      <td>Humber Bay Shores, Mimico South, New Toronto</td>\n      <td>0</td>\n      <td>0</td>\n      <td>0</td>\n      <td>0</td>\n      <td>0</td>\n      <td>0</td>\n      <td>0</td>\n      <td>0</td>\n      <td>0</td>\n      <td>...</td>\n      <td>0</td>\n      <td>0</td>\n      <td>0</td>\n      <td>0</td>\n      <td>0</td>\n      <td>0</td>\n      <td>0</td>\n      <td>0</td>\n      <td>0</td>\n      <td>0</td>\n    </tr>\n  </tbody>\n</table>\n<p>5 rows \u00d7 43 columns</p>\n</div>", 
                        "text/plain": "                                   Neighborhood  American Restaurant  \\\n0  Humber Bay Shores, Mimico South, New Toronto                    0   \n1  Humber Bay Shores, Mimico South, New Toronto                    0   \n2  Humber Bay Shores, Mimico South, New Toronto                    0   \n3  Humber Bay Shores, Mimico South, New Toronto                    0   \n4  Humber Bay Shores, Mimico South, New Toronto                    0   \n\n   Athletics & Sports  Bakery  Bank  Bar  Baseball Field  Beer Store  \\\n0                   0       0     0    0               0           0   \n1                   0       0     0    0               0           0   \n2                   0       1     0    0               0           0   \n3                   0       0     0    0               0           0   \n4                   0       0     0    0               0           0   \n\n   Burger Joint  Bus Line     ...       Restaurant  River  Sandwich Place  \\\n0             0         0     ...                0      0               0   \n1             0         0     ...                1      0               0   \n2             0         0     ...                0      0               0   \n3             0         0     ...                0      0               0   \n4             0         0     ...                0      0               0   \n\n   Seafood Restaurant  Skating Rink  Smoke Shop  Social Club  Supplement Shop  \\\n0                   0             0           0            0                0   \n1                   0             0           0            0                0   \n2                   0             0           0            0                0   \n3                   0             0           0            0                0   \n4                   0             0           0            0                0   \n\n   Tanning Salon  Wings Joint  \n0              0            0  \n1              0            0  \n2              0            0  \n3              0            0  \n4              0            0  \n\n[5 rows x 43 columns]"
                    }, 
                    "output_type": "execute_result"
                }
            ], 
            "source": "# One hot encoding\netobicoke_onehot = pd.get_dummies(etobicoke_venues[['Venue Category']], prefix=\"\", prefix_sep=\"\")\n\n# Add neighborhood column back to dataframe\netobicoke_onehot['Neighborhood'] = etobicoke_venues['Neighborhood'] \n\n# Move neighborhood column to the first column\nfixed_columns = [etobicoke_onehot.columns[-1]] + list(etobicoke_onehot.columns[:-1])\netobicoke_onehot = etobicoke_onehot[fixed_columns]\n\n# See the result\nprint(etobicoke_onehot.shape)\netobicoke_onehot.head()\n"
        }, 
        {
            "execution_count": 23, 
            "cell_type": "code", 
            "metadata": {}, 
            "outputs": [
                {
                    "execution_count": 23, 
                    "metadata": {}, 
                    "data": {
                        "text/html": "<div>\n<style scoped>\n    .dataframe tbody tr th:only-of-type {\n        vertical-align: middle;\n    }\n\n    .dataframe tbody tr th {\n        vertical-align: top;\n    }\n\n    .dataframe thead th {\n        text-align: right;\n    }\n</style>\n<table border=\"1\" class=\"dataframe\">\n  <thead>\n    <tr style=\"text-align: right;\">\n      <th></th>\n      <th>Neighborhood</th>\n      <th>American Restaurant</th>\n      <th>Athletics &amp; Sports</th>\n      <th>Bakery</th>\n      <th>Bank</th>\n      <th>Bar</th>\n      <th>Baseball Field</th>\n      <th>Beer Store</th>\n      <th>Burger Joint</th>\n      <th>Bus Line</th>\n      <th>...</th>\n      <th>Restaurant</th>\n      <th>River</th>\n      <th>Sandwich Place</th>\n      <th>Seafood Restaurant</th>\n      <th>Skating Rink</th>\n      <th>Smoke Shop</th>\n      <th>Social Club</th>\n      <th>Supplement Shop</th>\n      <th>Tanning Salon</th>\n      <th>Wings Joint</th>\n    </tr>\n  </thead>\n  <tbody>\n    <tr>\n      <th>0</th>\n      <td>Albion Gardens, Beaumond Heights, Humbergate, ...</td>\n      <td>0.0000</td>\n      <td>0.000000</td>\n      <td>0.000000</td>\n      <td>0.0</td>\n      <td>0.000000</td>\n      <td>0.0</td>\n      <td>0.090909</td>\n      <td>0.000000</td>\n      <td>0.000000</td>\n      <td>...</td>\n      <td>0.0000</td>\n      <td>0.000000</td>\n      <td>0.090909</td>\n      <td>0.0000</td>\n      <td>0.000000</td>\n      <td>0.000000</td>\n      <td>0.000000</td>\n      <td>0.000000</td>\n      <td>0.000000</td>\n      <td>0.000000</td>\n    </tr>\n    <tr>\n      <th>1</th>\n      <td>Alderwood, Long Branch</td>\n      <td>0.0000</td>\n      <td>0.090909</td>\n      <td>0.000000</td>\n      <td>0.0</td>\n      <td>0.000000</td>\n      <td>0.0</td>\n      <td>0.000000</td>\n      <td>0.000000</td>\n      <td>0.000000</td>\n      <td>...</td>\n      <td>0.0000</td>\n      <td>0.000000</td>\n      <td>0.090909</td>\n      <td>0.0000</td>\n      <td>0.090909</td>\n      <td>0.000000</td>\n      <td>0.000000</td>\n      <td>0.000000</td>\n      <td>0.000000</td>\n      <td>0.000000</td>\n    </tr>\n    <tr>\n      <th>2</th>\n      <td>Bloordale Gardens, Eringate, Markland Wood, Ol...</td>\n      <td>0.0000</td>\n      <td>0.000000</td>\n      <td>0.000000</td>\n      <td>0.0</td>\n      <td>0.000000</td>\n      <td>0.0</td>\n      <td>0.200000</td>\n      <td>0.000000</td>\n      <td>0.000000</td>\n      <td>...</td>\n      <td>0.0000</td>\n      <td>0.000000</td>\n      <td>0.000000</td>\n      <td>0.0000</td>\n      <td>0.000000</td>\n      <td>0.000000</td>\n      <td>0.000000</td>\n      <td>0.000000</td>\n      <td>0.000000</td>\n      <td>0.000000</td>\n    </tr>\n    <tr>\n      <th>3</th>\n      <td>Cloverdale, Islington, Martin Grove, Princess ...</td>\n      <td>0.0000</td>\n      <td>0.000000</td>\n      <td>0.000000</td>\n      <td>0.5</td>\n      <td>0.000000</td>\n      <td>0.0</td>\n      <td>0.000000</td>\n      <td>0.000000</td>\n      <td>0.000000</td>\n      <td>...</td>\n      <td>0.0000</td>\n      <td>0.000000</td>\n      <td>0.000000</td>\n      <td>0.0000</td>\n      <td>0.000000</td>\n      <td>0.000000</td>\n      <td>0.000000</td>\n      <td>0.000000</td>\n      <td>0.000000</td>\n      <td>0.000000</td>\n    </tr>\n    <tr>\n      <th>4</th>\n      <td>Humber Bay Shores, Mimico South, New Toronto</td>\n      <td>0.0625</td>\n      <td>0.000000</td>\n      <td>0.062500</td>\n      <td>0.0</td>\n      <td>0.000000</td>\n      <td>0.0</td>\n      <td>0.000000</td>\n      <td>0.000000</td>\n      <td>0.000000</td>\n      <td>...</td>\n      <td>0.0625</td>\n      <td>0.000000</td>\n      <td>0.062500</td>\n      <td>0.0625</td>\n      <td>0.000000</td>\n      <td>0.000000</td>\n      <td>0.000000</td>\n      <td>0.000000</td>\n      <td>0.000000</td>\n      <td>0.000000</td>\n    </tr>\n    <tr>\n      <th>5</th>\n      <td>Humber Bay, King's Mill Park, Kingsway Park So...</td>\n      <td>0.0000</td>\n      <td>0.000000</td>\n      <td>0.000000</td>\n      <td>0.0</td>\n      <td>0.000000</td>\n      <td>0.5</td>\n      <td>0.000000</td>\n      <td>0.000000</td>\n      <td>0.000000</td>\n      <td>...</td>\n      <td>0.0000</td>\n      <td>0.000000</td>\n      <td>0.000000</td>\n      <td>0.0000</td>\n      <td>0.000000</td>\n      <td>0.000000</td>\n      <td>0.000000</td>\n      <td>0.000000</td>\n      <td>0.000000</td>\n      <td>0.000000</td>\n    </tr>\n    <tr>\n      <th>6</th>\n      <td>Kingsview Village, Martin Grove Gardens, Richv...</td>\n      <td>0.0000</td>\n      <td>0.000000</td>\n      <td>0.000000</td>\n      <td>0.0</td>\n      <td>0.000000</td>\n      <td>0.0</td>\n      <td>0.000000</td>\n      <td>0.000000</td>\n      <td>0.333333</td>\n      <td>...</td>\n      <td>0.0000</td>\n      <td>0.000000</td>\n      <td>0.000000</td>\n      <td>0.0000</td>\n      <td>0.000000</td>\n      <td>0.000000</td>\n      <td>0.000000</td>\n      <td>0.000000</td>\n      <td>0.000000</td>\n      <td>0.000000</td>\n    </tr>\n    <tr>\n      <th>7</th>\n      <td>Kingsway Park South West, Mimico NW, The Queen...</td>\n      <td>0.0000</td>\n      <td>0.000000</td>\n      <td>0.076923</td>\n      <td>0.0</td>\n      <td>0.000000</td>\n      <td>0.0</td>\n      <td>0.000000</td>\n      <td>0.076923</td>\n      <td>0.000000</td>\n      <td>...</td>\n      <td>0.0000</td>\n      <td>0.000000</td>\n      <td>0.076923</td>\n      <td>0.0000</td>\n      <td>0.000000</td>\n      <td>0.000000</td>\n      <td>0.076923</td>\n      <td>0.076923</td>\n      <td>0.076923</td>\n      <td>0.076923</td>\n    </tr>\n    <tr>\n      <th>8</th>\n      <td>Northwest</td>\n      <td>0.0000</td>\n      <td>0.000000</td>\n      <td>0.000000</td>\n      <td>0.0</td>\n      <td>0.333333</td>\n      <td>0.0</td>\n      <td>0.000000</td>\n      <td>0.000000</td>\n      <td>0.000000</td>\n      <td>...</td>\n      <td>0.0000</td>\n      <td>0.000000</td>\n      <td>0.000000</td>\n      <td>0.0000</td>\n      <td>0.000000</td>\n      <td>0.000000</td>\n      <td>0.000000</td>\n      <td>0.000000</td>\n      <td>0.000000</td>\n      <td>0.000000</td>\n    </tr>\n    <tr>\n      <th>9</th>\n      <td>The Kingsway, Montgomery Road, Old Mill North</td>\n      <td>0.0000</td>\n      <td>0.000000</td>\n      <td>0.000000</td>\n      <td>0.0</td>\n      <td>0.000000</td>\n      <td>0.0</td>\n      <td>0.000000</td>\n      <td>0.000000</td>\n      <td>0.000000</td>\n      <td>...</td>\n      <td>0.0000</td>\n      <td>0.333333</td>\n      <td>0.000000</td>\n      <td>0.0000</td>\n      <td>0.000000</td>\n      <td>0.333333</td>\n      <td>0.000000</td>\n      <td>0.000000</td>\n      <td>0.000000</td>\n      <td>0.000000</td>\n    </tr>\n    <tr>\n      <th>10</th>\n      <td>Westmount</td>\n      <td>0.0000</td>\n      <td>0.000000</td>\n      <td>0.000000</td>\n      <td>0.0</td>\n      <td>0.000000</td>\n      <td>0.0</td>\n      <td>0.000000</td>\n      <td>0.000000</td>\n      <td>0.000000</td>\n      <td>...</td>\n      <td>0.0000</td>\n      <td>0.000000</td>\n      <td>0.142857</td>\n      <td>0.0000</td>\n      <td>0.000000</td>\n      <td>0.000000</td>\n      <td>0.000000</td>\n      <td>0.000000</td>\n      <td>0.000000</td>\n      <td>0.000000</td>\n    </tr>\n  </tbody>\n</table>\n<p>11 rows \u00d7 43 columns</p>\n</div>", 
                        "text/plain": "                                         Neighborhood  American Restaurant  \\\n0   Albion Gardens, Beaumond Heights, Humbergate, ...               0.0000   \n1                              Alderwood, Long Branch               0.0000   \n2   Bloordale Gardens, Eringate, Markland Wood, Ol...               0.0000   \n3   Cloverdale, Islington, Martin Grove, Princess ...               0.0000   \n4        Humber Bay Shores, Mimico South, New Toronto               0.0625   \n5   Humber Bay, King's Mill Park, Kingsway Park So...               0.0000   \n6   Kingsview Village, Martin Grove Gardens, Richv...               0.0000   \n7   Kingsway Park South West, Mimico NW, The Queen...               0.0000   \n8                                           Northwest               0.0000   \n9       The Kingsway, Montgomery Road, Old Mill North               0.0000   \n10                                          Westmount               0.0000   \n\n    Athletics & Sports    Bakery  Bank       Bar  Baseball Field  Beer Store  \\\n0             0.000000  0.000000   0.0  0.000000             0.0    0.090909   \n1             0.090909  0.000000   0.0  0.000000             0.0    0.000000   \n2             0.000000  0.000000   0.0  0.000000             0.0    0.200000   \n3             0.000000  0.000000   0.5  0.000000             0.0    0.000000   \n4             0.000000  0.062500   0.0  0.000000             0.0    0.000000   \n5             0.000000  0.000000   0.0  0.000000             0.5    0.000000   \n6             0.000000  0.000000   0.0  0.000000             0.0    0.000000   \n7             0.000000  0.076923   0.0  0.000000             0.0    0.000000   \n8             0.000000  0.000000   0.0  0.333333             0.0    0.000000   \n9             0.000000  0.000000   0.0  0.000000             0.0    0.000000   \n10            0.000000  0.000000   0.0  0.000000             0.0    0.000000   \n\n    Burger Joint  Bus Line     ...       Restaurant     River  Sandwich Place  \\\n0       0.000000  0.000000     ...           0.0000  0.000000        0.090909   \n1       0.000000  0.000000     ...           0.0000  0.000000        0.090909   \n2       0.000000  0.000000     ...           0.0000  0.000000        0.000000   \n3       0.000000  0.000000     ...           0.0000  0.000000        0.000000   \n4       0.000000  0.000000     ...           0.0625  0.000000        0.062500   \n5       0.000000  0.000000     ...           0.0000  0.000000        0.000000   \n6       0.000000  0.333333     ...           0.0000  0.000000        0.000000   \n7       0.076923  0.000000     ...           0.0000  0.000000        0.076923   \n8       0.000000  0.000000     ...           0.0000  0.000000        0.000000   \n9       0.000000  0.000000     ...           0.0000  0.333333        0.000000   \n10      0.000000  0.000000     ...           0.0000  0.000000        0.142857   \n\n    Seafood Restaurant  Skating Rink  Smoke Shop  Social Club  \\\n0               0.0000      0.000000    0.000000     0.000000   \n1               0.0000      0.090909    0.000000     0.000000   \n2               0.0000      0.000000    0.000000     0.000000   \n3               0.0000      0.000000    0.000000     0.000000   \n4               0.0625      0.000000    0.000000     0.000000   \n5               0.0000      0.000000    0.000000     0.000000   \n6               0.0000      0.000000    0.000000     0.000000   \n7               0.0000      0.000000    0.000000     0.076923   \n8               0.0000      0.000000    0.000000     0.000000   \n9               0.0000      0.000000    0.333333     0.000000   \n10              0.0000      0.000000    0.000000     0.000000   \n\n    Supplement Shop  Tanning Salon  Wings Joint  \n0          0.000000       0.000000     0.000000  \n1          0.000000       0.000000     0.000000  \n2          0.000000       0.000000     0.000000  \n3          0.000000       0.000000     0.000000  \n4          0.000000       0.000000     0.000000  \n5          0.000000       0.000000     0.000000  \n6          0.000000       0.000000     0.000000  \n7          0.076923       0.076923     0.076923  \n8          0.000000       0.000000     0.000000  \n9          0.000000       0.000000     0.000000  \n10         0.000000       0.000000     0.000000  \n\n[11 rows x 43 columns]"
                    }, 
                    "output_type": "execute_result"
                }
            ], 
            "source": "# Group rows by neighborhood and by taking the mean of the frequency of occurrence of each category\netobicoke_grouped = etobicoke_onehot.groupby('Neighborhood').mean().reset_index()\n\n# See the result\netobicoke_grouped"
        }, 
        {
            "execution_count": 24, 
            "cell_type": "code", 
            "metadata": {}, 
            "outputs": [
                {
                    "execution_count": 24, 
                    "metadata": {}, 
                    "data": {
                        "text/plain": "(11, 43)"
                    }, 
                    "output_type": "execute_result"
                }
            ], 
            "source": "# Confirm the new size\netobicoke_grouped.shape"
        }, 
        {
            "source": "<h4>3.5. Let's see what we have to deal with</h4>", 
            "cell_type": "markdown", 
            "metadata": {}
        }, 
        {
            "source": "As there are pretty few venues in the borogh, I'm not going to make the list too long. Top-3 is quite enough.", 
            "cell_type": "markdown", 
            "metadata": {}
        }, 
        {
            "execution_count": 25, 
            "cell_type": "code", 
            "metadata": {}, 
            "outputs": [
                {
                    "output_type": "stream", 
                    "name": "stdout", 
                    "text": "----Albion Gardens, Beaumond Heights, Humbergate, Jamestown, Mount Olive, Silverstone, South Steeles, Thistletown----\n                 venue  freq\n0        Grocery Store  0.18\n1  Japanese Restaurant  0.09\n2       Discount Store  0.09\n\n\n----Alderwood, Long Branch----\n            venue  freq\n0     Pizza Place  0.18\n1             Gym  0.09\n2  Sandwich Place  0.09\n\n\n----Bloordale Gardens, Eringate, Markland Wood, Old Burnhamthorpe----\n          venue  freq\n0  Liquor Store   0.2\n1      Pharmacy   0.2\n2    Beer Store   0.2\n\n\n----Cloverdale, Islington, Martin Grove, Princess Gardens, West Deane Park----\n                 venue  freq\n0                 Bank   0.5\n1          Golf Course   0.5\n2  American Restaurant   0.0\n\n\n----Humber Bay Shores, Mimico South, New Toronto----\n                 venue  freq\n0                 Caf\u00e9  0.12\n1          Coffee Shop  0.12\n2  American Restaurant  0.06\n\n\n----Humber Bay, King's Mill Park, Kingsway Park South East, Mimico NE, Old Mill South, The Queensway East, Royal York South East, Sunnylea----\n                 venue  freq\n0                 Park   0.5\n1       Baseball Field   0.5\n2  American Restaurant   0.0\n\n\n----Kingsview Village, Martin Grove Gardens, Richview Gardens, St. Phillips----\n         venue  freq\n0         Park  0.33\n1  Pizza Place  0.33\n2     Bus Line  0.33\n\n\n----Kingsway Park South West, Mimico NW, The Queensway West, Royal York South West, South of Bloor----\n               venue  freq\n0                Gym  0.08\n1  Convenience Store  0.08\n2      Tanning Salon  0.08\n\n\n----Northwest----\n                 venue  freq\n0  Rental Car Location  0.33\n1                  Bar  0.33\n2            Drugstore  0.33\n\n\n----The Kingsway, Montgomery Road, Old Mill North----\n        venue  freq\n0  Smoke Shop  0.33\n1        Park  0.33\n2       River  0.33\n\n\n----Westmount----\n                       venue  freq\n0                Pizza Place  0.29\n1                Coffee Shop  0.14\n2  Middle Eastern Restaurant  0.14\n\n\n"
                }
            ], 
            "source": "# Print each neighborhood along with the top 3 most common venues\nnum_top_venues = 3\n\nfor hood in etobicoke_grouped['Neighborhood']:\n    print(\"----\"+hood+\"----\")\n    temp = etobicoke_grouped[etobicoke_grouped['Neighborhood'] == hood].T.reset_index()\n    temp.columns = ['venue','freq']\n    temp = temp.iloc[1:]\n    temp['freq'] = temp['freq'].astype(float)\n    temp = temp.round({'freq': 2})\n    print(temp.sort_values('freq', ascending=False).reset_index(drop=True).head(num_top_venues))\n    print('\\n')"
        }, 
        {
            "source": "<h4>3.6. Create a dataframe with all of this information</h4>", 
            "cell_type": "markdown", 
            "metadata": {}
        }, 
        {
            "execution_count": 26, 
            "cell_type": "code", 
            "metadata": {}, 
            "outputs": [], 
            "source": "# A function to sort the venues in descending order.\ndef return_most_common_venues(row, num_top_venues):\n    row_categories = row.iloc[1:]\n    row_categories_sorted = row_categories.sort_values(ascending=False)\n    \n    return row_categories_sorted.index.values[0:num_top_venues]"
        }, 
        {
            "execution_count": 27, 
            "cell_type": "code", 
            "metadata": {}, 
            "outputs": [
                {
                    "execution_count": 27, 
                    "metadata": {}, 
                    "data": {
                        "text/html": "<div>\n<style scoped>\n    .dataframe tbody tr th:only-of-type {\n        vertical-align: middle;\n    }\n\n    .dataframe tbody tr th {\n        vertical-align: top;\n    }\n\n    .dataframe thead th {\n        text-align: right;\n    }\n</style>\n<table border=\"1\" class=\"dataframe\">\n  <thead>\n    <tr style=\"text-align: right;\">\n      <th></th>\n      <th>Neighborhood</th>\n      <th>1st Most Common Venue</th>\n      <th>2nd Most Common Venue</th>\n      <th>3rd Most Common Venue</th>\n    </tr>\n  </thead>\n  <tbody>\n    <tr>\n      <th>0</th>\n      <td>Albion Gardens, Beaumond Heights, Humbergate, ...</td>\n      <td>Grocery Store</td>\n      <td>Pizza Place</td>\n      <td>Fast Food Restaurant</td>\n    </tr>\n    <tr>\n      <th>1</th>\n      <td>Alderwood, Long Branch</td>\n      <td>Pizza Place</td>\n      <td>Pool</td>\n      <td>Athletics &amp; Sports</td>\n    </tr>\n    <tr>\n      <th>2</th>\n      <td>Bloordale Gardens, Eringate, Markland Wood, Ol...</td>\n      <td>Liquor Store</td>\n      <td>Beer Store</td>\n      <td>Pharmacy</td>\n    </tr>\n    <tr>\n      <th>3</th>\n      <td>Cloverdale, Islington, Martin Grove, Princess ...</td>\n      <td>Golf Course</td>\n      <td>Bank</td>\n      <td>Chinese Restaurant</td>\n    </tr>\n    <tr>\n      <th>4</th>\n      <td>Humber Bay Shores, Mimico South, New Toronto</td>\n      <td>Coffee Shop</td>\n      <td>Caf\u00e9</td>\n      <td>American Restaurant</td>\n    </tr>\n    <tr>\n      <th>5</th>\n      <td>Humber Bay, King's Mill Park, Kingsway Park So...</td>\n      <td>Baseball Field</td>\n      <td>Park</td>\n      <td>Wings Joint</td>\n    </tr>\n    <tr>\n      <th>6</th>\n      <td>Kingsview Village, Martin Grove Gardens, Richv...</td>\n      <td>Park</td>\n      <td>Bus Line</td>\n      <td>Pizza Place</td>\n    </tr>\n    <tr>\n      <th>7</th>\n      <td>Kingsway Park South West, Mimico NW, The Queen...</td>\n      <td>Wings Joint</td>\n      <td>Gym</td>\n      <td>Bakery</td>\n    </tr>\n    <tr>\n      <th>8</th>\n      <td>Northwest</td>\n      <td>Rental Car Location</td>\n      <td>Drugstore</td>\n      <td>Bar</td>\n    </tr>\n    <tr>\n      <th>9</th>\n      <td>The Kingsway, Montgomery Road, Old Mill North</td>\n      <td>Smoke Shop</td>\n      <td>River</td>\n      <td>Park</td>\n    </tr>\n    <tr>\n      <th>10</th>\n      <td>Westmount</td>\n      <td>Pizza Place</td>\n      <td>Chinese Restaurant</td>\n      <td>Intersection</td>\n    </tr>\n  </tbody>\n</table>\n</div>", 
                        "text/plain": "                                         Neighborhood 1st Most Common Venue  \\\n0   Albion Gardens, Beaumond Heights, Humbergate, ...         Grocery Store   \n1                              Alderwood, Long Branch           Pizza Place   \n2   Bloordale Gardens, Eringate, Markland Wood, Ol...          Liquor Store   \n3   Cloverdale, Islington, Martin Grove, Princess ...           Golf Course   \n4        Humber Bay Shores, Mimico South, New Toronto           Coffee Shop   \n5   Humber Bay, King's Mill Park, Kingsway Park So...        Baseball Field   \n6   Kingsview Village, Martin Grove Gardens, Richv...                  Park   \n7   Kingsway Park South West, Mimico NW, The Queen...           Wings Joint   \n8                                           Northwest   Rental Car Location   \n9       The Kingsway, Montgomery Road, Old Mill North            Smoke Shop   \n10                                          Westmount           Pizza Place   \n\n   2nd Most Common Venue 3rd Most Common Venue  \n0            Pizza Place  Fast Food Restaurant  \n1                   Pool    Athletics & Sports  \n2             Beer Store              Pharmacy  \n3                   Bank    Chinese Restaurant  \n4                   Caf\u00e9   American Restaurant  \n5                   Park           Wings Joint  \n6               Bus Line           Pizza Place  \n7                    Gym                Bakery  \n8              Drugstore                   Bar  \n9                  River                  Park  \n10    Chinese Restaurant          Intersection  "
                    }, 
                    "output_type": "execute_result"
                }
            ], 
            "source": "# Create the new dataframe and display the top 3 venues for each neighborhood.\n\nindicators = ['st', 'nd', 'rd']\n\n# create columns according to number of top venues\ncolumns = ['Neighborhood']\nfor ind in np.arange(num_top_venues):\n    try:\n        columns.append('{}{} Most Common Venue'.format(ind+1, indicators[ind]))\n    except:\n        columns.append('{}th Most Common Venue'.format(ind+1))\n\n# create a new dataframe\nneighborhoods_venues_sorted = pd.DataFrame(columns=columns)\nneighborhoods_venues_sorted['Neighborhood'] = etobicoke_grouped['Neighborhood']\n\nfor ind in np.arange(etobicoke_grouped.shape[0]):\n    neighborhoods_venues_sorted.iloc[ind, 1:] = return_most_common_venues(etobicoke_grouped.iloc[ind, :], num_top_venues)\n\nneighborhoods_venues_sorted"
        }, 
        {
            "source": "<h4>3.7. Cluster neighborhoods</h4>", 
            "cell_type": "markdown", 
            "metadata": {}
        }, 
        {
            "source": "<p>Again, since the borough is small, I believe we don't need to go crazy with the number of clusters</p>", 
            "cell_type": "markdown", 
            "metadata": {}
        }, 
        {
            "execution_count": 28, 
            "cell_type": "code", 
            "metadata": {}, 
            "outputs": [
                {
                    "execution_count": 28, 
                    "metadata": {}, 
                    "data": {
                        "text/plain": "array([0, 0, 0, 1, 0, 2, 2, 0, 3, 0, 0], dtype=int32)"
                    }, 
                    "output_type": "execute_result"
                }
            ], 
            "source": "# set number of clusters\nkclusters = 4\n\n# define cluster\netobicoke_grouped_clustering = etobicoke_grouped.drop('Neighborhood', 1)\n\n# run k-means clustering\nkmeans = KMeans(n_clusters=kclusters, random_state=0).fit(etobicoke_grouped_clustering)\n\n# check cluster labels generated for each row in the dataframe\nkmeans.labels_"
        }, 
        {
            "source": "Creating a dataframe including the cluster as well as the top-3 venues for each neighborhood:", 
            "cell_type": "markdown", 
            "metadata": {}
        }, 
        {
            "execution_count": 29, 
            "cell_type": "code", 
            "metadata": {}, 
            "outputs": [
                {
                    "execution_count": 29, 
                    "metadata": {}, 
                    "data": {
                        "text/html": "<div>\n<style scoped>\n    .dataframe tbody tr th:only-of-type {\n        vertical-align: middle;\n    }\n\n    .dataframe tbody tr th {\n        vertical-align: top;\n    }\n\n    .dataframe thead th {\n        text-align: right;\n    }\n</style>\n<table border=\"1\" class=\"dataframe\">\n  <thead>\n    <tr style=\"text-align: right;\">\n      <th></th>\n      <th>PostalCode</th>\n      <th>Borough</th>\n      <th>Neighborhood</th>\n      <th>Latitude</th>\n      <th>Longitude</th>\n      <th>Cluster Labels</th>\n      <th>1st Most Common Venue</th>\n      <th>2nd Most Common Venue</th>\n      <th>3rd Most Common Venue</th>\n    </tr>\n  </thead>\n  <tbody>\n    <tr>\n      <th>0</th>\n      <td>M8V</td>\n      <td>Etobicoke</td>\n      <td>Humber Bay Shores, Mimico South, New Toronto</td>\n      <td>43.605647</td>\n      <td>-79.501321</td>\n      <td>0.0</td>\n      <td>Coffee Shop</td>\n      <td>Caf\u00e9</td>\n      <td>American Restaurant</td>\n    </tr>\n    <tr>\n      <th>1</th>\n      <td>M8W</td>\n      <td>Etobicoke</td>\n      <td>Alderwood, Long Branch</td>\n      <td>43.602414</td>\n      <td>-79.543484</td>\n      <td>0.0</td>\n      <td>Pizza Place</td>\n      <td>Pool</td>\n      <td>Athletics &amp; Sports</td>\n    </tr>\n    <tr>\n      <th>2</th>\n      <td>M8X</td>\n      <td>Etobicoke</td>\n      <td>The Kingsway, Montgomery Road, Old Mill North</td>\n      <td>43.653654</td>\n      <td>-79.506944</td>\n      <td>0.0</td>\n      <td>Smoke Shop</td>\n      <td>River</td>\n      <td>Park</td>\n    </tr>\n    <tr>\n      <th>3</th>\n      <td>M8Y</td>\n      <td>Etobicoke</td>\n      <td>Humber Bay, King's Mill Park, Kingsway Park So...</td>\n      <td>43.636258</td>\n      <td>-79.498509</td>\n      <td>2.0</td>\n      <td>Baseball Field</td>\n      <td>Park</td>\n      <td>Wings Joint</td>\n    </tr>\n    <tr>\n      <th>4</th>\n      <td>M8Z</td>\n      <td>Etobicoke</td>\n      <td>Kingsway Park South West, Mimico NW, The Queen...</td>\n      <td>43.628841</td>\n      <td>-79.520999</td>\n      <td>0.0</td>\n      <td>Wings Joint</td>\n      <td>Gym</td>\n      <td>Bakery</td>\n    </tr>\n  </tbody>\n</table>\n</div>", 
                        "text/plain": "  PostalCode    Borough                                       Neighborhood  \\\n0        M8V  Etobicoke       Humber Bay Shores, Mimico South, New Toronto   \n1        M8W  Etobicoke                             Alderwood, Long Branch   \n2        M8X  Etobicoke      The Kingsway, Montgomery Road, Old Mill North   \n3        M8Y  Etobicoke  Humber Bay, King's Mill Park, Kingsway Park So...   \n4        M8Z  Etobicoke  Kingsway Park South West, Mimico NW, The Queen...   \n\n    Latitude  Longitude  Cluster Labels 1st Most Common Venue  \\\n0  43.605647 -79.501321             0.0           Coffee Shop   \n1  43.602414 -79.543484             0.0           Pizza Place   \n2  43.653654 -79.506944             0.0            Smoke Shop   \n3  43.636258 -79.498509             2.0        Baseball Field   \n4  43.628841 -79.520999             0.0           Wings Joint   \n\n  2nd Most Common Venue 3rd Most Common Venue  \n0                  Caf\u00e9   American Restaurant  \n1                  Pool    Athletics & Sports  \n2                 River                  Park  \n3                  Park           Wings Joint  \n4                   Gym                Bakery  "
                    }, 
                    "output_type": "execute_result"
                }
            ], 
            "source": "# add clustering labels\nneighborhoods_venues_sorted.insert(0, 'Cluster Labels', kmeans.labels_)\n\netobicoke_merged = etobicoke_data\n\n# merge two dataframes together to get coordinates for neighborhoods\netobicoke_merged = etobicoke_merged.join(neighborhoods_venues_sorted.set_index('Neighborhood'), on='Neighborhood')\n\n# just in case of insufficient data \netobicoke_merged = etobicoke_merged.dropna()\netobicoke_merged['Cluster Labels'].astype(int)\n\n# see the result\netobicoke_merged.head()"
        }, 
        {
            "source": "<h4>3.8. Draw a map</h4>", 
            "cell_type": "markdown", 
            "metadata": {}
        }, 
        {
            "execution_count": 30, 
            "cell_type": "code", 
            "metadata": {}, 
            "outputs": [
                {
                    "output_type": "stream", 
                    "name": "stdout", 
                    "text": "0.0\n0.0\n0.0\n2.0\n0.0\n1.0\n0.0\n0.0\n2.0\n0.0\n3.0\n"
                }, 
                {
                    "execution_count": 30, 
                    "metadata": {}, 
                    "data": {
                        "text/html": "<div style=\"width:100%;\"><div style=\"position:relative;width:100%;height:0;padding-bottom:60%;\"><iframe src=\"data:text/html;charset=utf-8;base64,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\" style=\"position:absolute;width:100%;height:100%;left:0;top:0;border:none !important;\" allowfullscreen webkitallowfullscreen mozallowfullscreen></iframe></div></div>", 
                        "text/plain": "<folium.folium.Map at 0x7fa5737924a8>"
                    }, 
                    "output_type": "execute_result"
                }
            ], 
            "source": "# create map\nmap_clusters = folium.Map(location=[latitude, longitude], zoom_start=12)\n\n# set color scheme for the clusters\nx = np.arange(kclusters)\nys = [i + x + (i*x)**2 for i in range(kclusters)]\ncolors_array = cm.rainbow(np.linspace(0, 1, len(ys)))\nrainbow = [colors.rgb2hex(i) for i in colors_array]\n\n# add markers to the map\nmarkers_colors = []\nfor lat, lon, poi, cluster in zip(etobicoke_merged['Latitude'], etobicoke_merged['Longitude'], etobicoke_merged['Neighborhood'], etobicoke_merged['Cluster Labels']):\n    print(cluster)\n    label = folium.Popup(str(poi) + ' Cluster ' + str(cluster), parse_html=True)\n    folium.CircleMarker(\n        [lat, lon],\n        radius=5,\n        popup=label,\n        color=rainbow[int(cluster)-1],\n        fill=True,\n        fill_color=rainbow[int(cluster)-1],\n        fill_opacity=0.7).add_to(map_clusters)\n       \nmap_clusters"
        }, 
        {
            "source": "<h4>3.9. See the result</h4>", 
            "cell_type": "markdown", 
            "metadata": {}
        }, 
        {
            "source": "<h5>First cluster:</h5>", 
            "cell_type": "markdown", 
            "metadata": {}
        }, 
        {
            "execution_count": 31, 
            "cell_type": "code", 
            "metadata": {}, 
            "outputs": [
                {
                    "execution_count": 31, 
                    "metadata": {}, 
                    "data": {
                        "text/html": "<div>\n<style scoped>\n    .dataframe tbody tr th:only-of-type {\n        vertical-align: middle;\n    }\n\n    .dataframe tbody tr th {\n        vertical-align: top;\n    }\n\n    .dataframe thead th {\n        text-align: right;\n    }\n</style>\n<table border=\"1\" class=\"dataframe\">\n  <thead>\n    <tr style=\"text-align: right;\">\n      <th></th>\n      <th>Neighborhood</th>\n      <th>Cluster Labels</th>\n      <th>1st Most Common Venue</th>\n      <th>2nd Most Common Venue</th>\n      <th>3rd Most Common Venue</th>\n    </tr>\n  </thead>\n  <tbody>\n    <tr>\n      <th>0</th>\n      <td>Humber Bay Shores, Mimico South, New Toronto</td>\n      <td>0.0</td>\n      <td>Coffee Shop</td>\n      <td>Caf\u00e9</td>\n      <td>American Restaurant</td>\n    </tr>\n    <tr>\n      <th>1</th>\n      <td>Alderwood, Long Branch</td>\n      <td>0.0</td>\n      <td>Pizza Place</td>\n      <td>Pool</td>\n      <td>Athletics &amp; Sports</td>\n    </tr>\n    <tr>\n      <th>2</th>\n      <td>The Kingsway, Montgomery Road, Old Mill North</td>\n      <td>0.0</td>\n      <td>Smoke Shop</td>\n      <td>River</td>\n      <td>Park</td>\n    </tr>\n    <tr>\n      <th>4</th>\n      <td>Kingsway Park South West, Mimico NW, The Queen...</td>\n      <td>0.0</td>\n      <td>Wings Joint</td>\n      <td>Gym</td>\n      <td>Bakery</td>\n    </tr>\n    <tr>\n      <th>7</th>\n      <td>Bloordale Gardens, Eringate, Markland Wood, Ol...</td>\n      <td>0.0</td>\n      <td>Liquor Store</td>\n      <td>Beer Store</td>\n      <td>Pharmacy</td>\n    </tr>\n    <tr>\n      <th>8</th>\n      <td>Westmount</td>\n      <td>0.0</td>\n      <td>Pizza Place</td>\n      <td>Chinese Restaurant</td>\n      <td>Intersection</td>\n    </tr>\n    <tr>\n      <th>10</th>\n      <td>Albion Gardens, Beaumond Heights, Humbergate, ...</td>\n      <td>0.0</td>\n      <td>Grocery Store</td>\n      <td>Pizza Place</td>\n      <td>Fast Food Restaurant</td>\n    </tr>\n  </tbody>\n</table>\n</div>", 
                        "text/plain": "                                         Neighborhood  Cluster Labels  \\\n0        Humber Bay Shores, Mimico South, New Toronto             0.0   \n1                              Alderwood, Long Branch             0.0   \n2       The Kingsway, Montgomery Road, Old Mill North             0.0   \n4   Kingsway Park South West, Mimico NW, The Queen...             0.0   \n7   Bloordale Gardens, Eringate, Markland Wood, Ol...             0.0   \n8                                           Westmount             0.0   \n10  Albion Gardens, Beaumond Heights, Humbergate, ...             0.0   \n\n   1st Most Common Venue 2nd Most Common Venue 3rd Most Common Venue  \n0            Coffee Shop                  Caf\u00e9   American Restaurant  \n1            Pizza Place                  Pool    Athletics & Sports  \n2             Smoke Shop                 River                  Park  \n4            Wings Joint                   Gym                Bakery  \n7           Liquor Store            Beer Store              Pharmacy  \n8            Pizza Place    Chinese Restaurant          Intersection  \n10         Grocery Store           Pizza Place  Fast Food Restaurant  "
                    }, 
                    "output_type": "execute_result"
                }
            ], 
            "source": "etobicoke_merged.loc[etobicoke_merged['Cluster Labels'] == 0, etobicoke_merged.columns[[2] + list(range(5, etobicoke_merged.shape[1]))]]"
        }, 
        {
            "source": "Well, it looks like these guys like to have fun: they barely go to the park, but they surely like pizza along with some liquor and smokes. ", 
            "cell_type": "markdown", 
            "metadata": {}
        }, 
        {
            "source": "<h5>Second cluster:</h5>", 
            "cell_type": "markdown", 
            "metadata": {}
        }, 
        {
            "execution_count": 32, 
            "cell_type": "code", 
            "metadata": {}, 
            "outputs": [
                {
                    "execution_count": 32, 
                    "metadata": {}, 
                    "data": {
                        "text/html": "<div>\n<style scoped>\n    .dataframe tbody tr th:only-of-type {\n        vertical-align: middle;\n    }\n\n    .dataframe tbody tr th {\n        vertical-align: top;\n    }\n\n    .dataframe thead th {\n        text-align: right;\n    }\n</style>\n<table border=\"1\" class=\"dataframe\">\n  <thead>\n    <tr style=\"text-align: right;\">\n      <th></th>\n      <th>Neighborhood</th>\n      <th>Cluster Labels</th>\n      <th>1st Most Common Venue</th>\n      <th>2nd Most Common Venue</th>\n      <th>3rd Most Common Venue</th>\n    </tr>\n  </thead>\n  <tbody>\n    <tr>\n      <th>6</th>\n      <td>Cloverdale, Islington, Martin Grove, Princess ...</td>\n      <td>1.0</td>\n      <td>Golf Course</td>\n      <td>Bank</td>\n      <td>Chinese Restaurant</td>\n    </tr>\n  </tbody>\n</table>\n</div>", 
                        "text/plain": "                                        Neighborhood  Cluster Labels  \\\n6  Cloverdale, Islington, Martin Grove, Princess ...             1.0   \n\n  1st Most Common Venue 2nd Most Common Venue 3rd Most Common Venue  \n6           Golf Course                  Bank    Chinese Restaurant  "
                    }, 
                    "output_type": "execute_result"
                }
            ], 
            "source": "etobicoke_merged.loc[etobicoke_merged['Cluster Labels'] == 1, etobicoke_merged.columns[[2] + list(range(5, etobicoke_merged.shape[1]))]]"
        }, 
        {
            "source": "These guys look like a wealthy ones with golf and banking venues. ", 
            "cell_type": "markdown", 
            "metadata": {}
        }, 
        {
            "source": "<h6>Third cluster:</h6>", 
            "cell_type": "markdown", 
            "metadata": {}
        }, 
        {
            "execution_count": 33, 
            "cell_type": "code", 
            "metadata": {}, 
            "outputs": [
                {
                    "execution_count": 33, 
                    "metadata": {}, 
                    "data": {
                        "text/html": "<div>\n<style scoped>\n    .dataframe tbody tr th:only-of-type {\n        vertical-align: middle;\n    }\n\n    .dataframe tbody tr th {\n        vertical-align: top;\n    }\n\n    .dataframe thead th {\n        text-align: right;\n    }\n</style>\n<table border=\"1\" class=\"dataframe\">\n  <thead>\n    <tr style=\"text-align: right;\">\n      <th></th>\n      <th>Neighborhood</th>\n      <th>Cluster Labels</th>\n      <th>1st Most Common Venue</th>\n      <th>2nd Most Common Venue</th>\n      <th>3rd Most Common Venue</th>\n    </tr>\n  </thead>\n  <tbody>\n    <tr>\n      <th>3</th>\n      <td>Humber Bay, King's Mill Park, Kingsway Park So...</td>\n      <td>2.0</td>\n      <td>Baseball Field</td>\n      <td>Park</td>\n      <td>Wings Joint</td>\n    </tr>\n    <tr>\n      <th>9</th>\n      <td>Kingsview Village, Martin Grove Gardens, Richv...</td>\n      <td>2.0</td>\n      <td>Park</td>\n      <td>Bus Line</td>\n      <td>Pizza Place</td>\n    </tr>\n  </tbody>\n</table>\n</div>", 
                        "text/plain": "                                        Neighborhood  Cluster Labels  \\\n3  Humber Bay, King's Mill Park, Kingsway Park So...             2.0   \n9  Kingsview Village, Martin Grove Gardens, Richv...             2.0   \n\n  1st Most Common Venue 2nd Most Common Venue 3rd Most Common Venue  \n3        Baseball Field                  Park           Wings Joint  \n9                  Park              Bus Line           Pizza Place  "
                    }, 
                    "output_type": "execute_result"
                }
            ], 
            "source": "etobicoke_merged.loc[etobicoke_merged['Cluster Labels'] == 2, etobicoke_merged.columns[[2] + list(range(5, etobicoke_merged.shape[1]))]]"
        }, 
        {
            "source": "These guys are all into outdoors things like baseball and walking. No wonder: they have some beautiful parks in the area! ", 
            "cell_type": "markdown", 
            "metadata": {}
        }, 
        {
            "source": "<h6>Fourth cluster:</h6>", 
            "cell_type": "markdown", 
            "metadata": {}
        }, 
        {
            "execution_count": 34, 
            "cell_type": "code", 
            "metadata": {}, 
            "outputs": [
                {
                    "execution_count": 34, 
                    "metadata": {}, 
                    "data": {
                        "text/html": "<div>\n<style scoped>\n    .dataframe tbody tr th:only-of-type {\n        vertical-align: middle;\n    }\n\n    .dataframe tbody tr th {\n        vertical-align: top;\n    }\n\n    .dataframe thead th {\n        text-align: right;\n    }\n</style>\n<table border=\"1\" class=\"dataframe\">\n  <thead>\n    <tr style=\"text-align: right;\">\n      <th></th>\n      <th>Neighborhood</th>\n      <th>Cluster Labels</th>\n      <th>1st Most Common Venue</th>\n      <th>2nd Most Common Venue</th>\n      <th>3rd Most Common Venue</th>\n    </tr>\n  </thead>\n  <tbody>\n    <tr>\n      <th>11</th>\n      <td>Northwest</td>\n      <td>3.0</td>\n      <td>Rental Car Location</td>\n      <td>Drugstore</td>\n      <td>Bar</td>\n    </tr>\n  </tbody>\n</table>\n</div>", 
                        "text/plain": "   Neighborhood  Cluster Labels 1st Most Common Venue 2nd Most Common Venue  \\\n11    Northwest             3.0   Rental Car Location             Drugstore   \n\n   3rd Most Common Venue  \n11                   Bar  "
                    }, 
                    "output_type": "execute_result"
                }
            ], 
            "source": "etobicoke_merged.loc[etobicoke_merged['Cluster Labels'] == 3, etobicoke_merged.columns[[2] + list(range(5, etobicoke_merged.shape[1]))]]"
        }, 
        {
            "source": "That's the most unusual thing here. Don't drink and drive, guys! ", 
            "cell_type": "markdown", 
            "metadata": {}
        }, 
        {
            "source": "<hr>\n<h3>That's all, folks</h3>", 
            "cell_type": "markdown", 
            "metadata": {}
        }, 
        {
            "source": "<p>Thank you for taking your time and reviewing my work. </p>\n<p>I wish you the best of luck with completing this course. </p>\n<p>Have a great time!</p>", 
            "cell_type": "markdown", 
            "metadata": {}
        }, 
        {
            "execution_count": null, 
            "cell_type": "code", 
            "metadata": {}, 
            "outputs": [], 
            "source": ""
        }
    ], 
    "metadata": {
        "kernelspec": {
            "display_name": "Python 3.5", 
            "name": "python3", 
            "language": "python"
        }, 
        "language_info": {
            "mimetype": "text/x-python", 
            "nbconvert_exporter": "python", 
            "version": "3.5.5", 
            "name": "python", 
            "file_extension": ".py", 
            "pygments_lexer": "ipython3", 
            "codemirror_mode": {
                "version": 3, 
                "name": "ipython"
            }
        }
    }, 
    "nbformat": 4
}